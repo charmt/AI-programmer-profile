{
  "nbformat": 4,
  "nbformat_minor": 0,
  "metadata": {
    "colab": {
      "name": "Charmaine Thomas - L2S06- AI- Stacks.ipynb",
      "provenance": [],
      "collapsed_sections": [],
      "include_colab_link": true
    },
    "kernelspec": {
      "name": "python3",
      "display_name": "Python 3"
    },
    "language_info": {
      "name": "python"
    }
  },
  "cells": [
    {
      "cell_type": "markdown",
      "metadata": {
        "id": "view-in-github",
        "colab_type": "text"
      },
      "source": [
        "<a href=\"https://colab.research.google.com/github/charmt/AI-programmer-profile/blob/main/Charmaine_Thomas_L2S06_AI_Stacks.ipynb\" target=\"_parent\"><img src=\"https://colab.research.google.com/assets/colab-badge.svg\" alt=\"Open In Colab\"/></a>"
      ]
    },
    {
      "cell_type": "markdown",
      "metadata": {
        "id": "NycvLlC4MdmH"
      },
      "source": [
        "## Create stacks using lists"
      ]
    },
    {
      "cell_type": "code",
      "metadata": {
        "colab": {
          "base_uri": "https://localhost:8080/"
        },
        "id": "yiFWQHihBSDY",
        "outputId": "97a6102c-8336-42bf-a6a4-97f2c165059f"
      },
      "source": [
        "pip install pythonds"
      ],
      "execution_count": null,
      "outputs": [
        {
          "output_type": "stream",
          "name": "stdout",
          "text": [
            "Collecting pythonds\n",
            "  Downloading pythonds-1.2.1-py3-none-any.whl (14 kB)\n",
            "Installing collected packages: pythonds\n",
            "Successfully installed pythonds-1.2.1\n"
          ]
        }
      ]
    },
    {
      "cell_type": "code",
      "metadata": {
        "colab": {
          "base_uri": "https://localhost:8080/"
        },
        "id": "JkaT3E24BdXJ",
        "outputId": "5e0f6094-5505-46f5-dd74-c1b807248e65"
      },
      "source": [
        "from pythonds.basic import Stack\n",
        "print(\"done\")"
      ],
      "execution_count": null,
      "outputs": [
        {
          "output_type": "stream",
          "name": "stdout",
          "text": [
            "done\n"
          ]
        }
      ]
    },
    {
      "cell_type": "code",
      "metadata": {
        "id": "pOdQeg3lMFw8",
        "colab": {
          "base_uri": "https://localhost:8080/"
        },
        "outputId": "65889973-692a-4edc-c442-119bccc9ba44"
      },
      "source": [
        "# Initialize a stack\n",
        "stack = []\n",
        "\n",
        "#Push (Append) Items on to the stack\n",
        "stack.append('one')\n",
        "stack.append('two')\n",
        "stack.append('three')\n",
        "stack.append('four')\n",
        "\n",
        "#Print out the stack\n",
        "print(stack)\n",
        "\n",
        "#Pop an item off the stack\n",
        "popped = stack.pop()\n",
        "print(popped)\n",
        "print(stack)"
      ],
      "execution_count": null,
      "outputs": [
        {
          "output_type": "stream",
          "name": "stdout",
          "text": [
            "['one', 'two', 'three', 'four']\n",
            "four\n",
            "['one', 'two', 'three']\n"
          ]
        }
      ]
    },
    {
      "cell_type": "markdown",
      "metadata": {
        "id": "wOGvecRYMkCQ"
      },
      "source": [
        "## Implement a Stack as a Class\n",
        "\n",
        "Have some thinking and practice time to implement a stack as a class and implement some of its functions such as: **initialise(), push(), pop(), peek(), size(), is_Empty()**. \n",
        "\n",
        "**Extension**: add more functions as needed to create a simplified version for the functionality of an **undo button in a word processor**, or **the back button in a browser**."
      ]
    },
    {
      "cell_type": "code",
      "metadata": {
        "id": "mVlB7L4dM0e6",
        "colab": {
          "base_uri": "https://localhost:8080/",
          "height": 131
        },
        "outputId": "64567b3d-84f1-43a4-bba7-346fcf6dfb3e"
      },
      "source": [
        "# implement a stack as a class:\n",
        "\n",
        "#create a stack class, and the constructor of the class is going to initialize a Python list\n",
        "# initialise list, the list is named \"stack\" in this case, self.stack is created when we create a stack object \n",
        "class Stack:\n",
        "  def __init__(self):\n",
        "    self.stack = []\n",
        "# create a method to return whether or not a stack is empty\n",
        "  def isEmpty(self):\n",
        "    return self.stack == []\n",
        "# create a method to return the items list, which forms the core of the stack (get stack)\n",
        "\n",
        "# implement the push() method which takes an item data as an argument and push it to the end of the list \n",
        "  def push(self, data):\n",
        "    self.stack.append(data)\n",
        "\n",
        "# implement t:\n",
        "# create a check size method to check the length of a stack\n",
        "  def peek(self):\n",
        "    if not self.isEmpty():\n",
        "      return self.stack[-1]\n",
        "\n",
        "def pop(self):\n",
        "    if self.stack:\n",
        "      return self.stack.pop()\n",
        "    else:\n",
        "      raise IndexError(\"the stack is empty\")\n",
        "\n",
        "  def size(self):\n",
        "    return len(self.stack)\n",
        "# implement the peek() method, it checks if a stack is not empty and if it isn’t, it returns the last element of the list, \n",
        "# which in this case, is the top element of the stack. \n",
        "# unlike pop() method, peek method return the last element without remove it from the list\n",
        "# make sure you access the last item in the list for this functionality\n",
        "  c_stack = Stack()\n",
        "\n",
        "  for items in range(10):\n",
        "    c_stack.push(items)\n",
        "#Test your stack implementation and its functionality:\n",
        "# create stack Object (my_stack) \n",
        "#fill the stack using for loop, range() and calling push() function\n",
        "\n",
        "# check if stack is empty\n",
        "# get the topmost element of the stack"
      ],
      "execution_count": null,
      "outputs": [
        {
          "output_type": "error",
          "ename": "IndentationError",
          "evalue": "ignored",
          "traceback": [
            "\u001b[0;36m  File \u001b[0;32m\"<ipython-input-26-d125c177de83>\"\u001b[0;36m, line \u001b[0;32m29\u001b[0m\n\u001b[0;31m    def size(self):\u001b[0m\n\u001b[0m                   ^\u001b[0m\n\u001b[0;31mIndentationError\u001b[0m\u001b[0;31m:\u001b[0m unindent does not match any outer indentation level\n"
          ]
        }
      ]
    },
    {
      "cell_type": "code",
      "metadata": {
        "id": "A3HiEICTG9Qh"
      },
      "source": [
        ""
      ],
      "execution_count": null,
      "outputs": []
    },
    {
      "cell_type": "markdown",
      "metadata": {
        "id": "vFs_mHKbG-JJ"
      },
      "source": [
        "## Extension Exercises\n",
        "### Option 1: Implement a back button functionality in a browser\n",
        "### Option 2: Implement the undo function for a word processor\n"
      ]
    },
    {
      "cell_type": "code",
      "metadata": {
        "id": "cFQ2G__wHQ3K",
        "colab": {
          "base_uri": "https://localhost:8080/"
        },
        "outputId": "09a00767-930e-4f36-eabb-c48b18b047f0"
      },
      "source": [
        "# I will leave this to your creativity, so you can take it as deep or simple as you like,\n",
        "# make sure you present your work to the class so you can get some feedback to improve your work\n",
        "# Enjoy Coding!\n",
        "#write function, undo function\n",
        "global Undo\n",
        "global Redo\n",
        "\n",
        "Undo = []\n",
        "Redo = []\n",
        "\n",
        "def WRITE(Undo, X):\n",
        "  \n",
        "    Undo.append(X)\n",
        "\n",
        "def UNDO(Undo, Redo):\n",
        "\n",
        "    X = Undo[-1]\n",
        "\n",
        "    Undo.pop()\n",
        "\n",
        "    Redo.append(X)\n",
        "\n",
        "def REDO(Undo, Redo):\n",
        "    X = Redo[-1]\n",
        "\n",
        "    Redo.pop()\n",
        "\n",
        "    Undo.append(X)\n",
        "\n",
        "def READ(Undo):\n",
        "    print(Undo)\n",
        "    \n",
        "def QUERY(Q):\n",
        "    N = len(Q)\n",
        "\n",
        "    for i in range(N):\n",
        "        if(Q[i] == \"UNDO\"):\n",
        "            UNDO(Undo, Redo)\n",
        "        elif(Q[i] == \"REDO\"):\n",
        "            REDO(Undo, Redo)\n",
        "        elif(Q[i] == \"READ\"):\n",
        "            READ(Undo)\n",
        "        else:\n",
        "            WRITE(Undo, Q[i][6])\n",
        "\n",
        "Q = [\"WRITE Q\", \"WRITE R\", \"WRITE S\",\n",
        "     \"UNDO\", \"READ\", \"REDO\", \"READ\"]\n",
        "\n",
        "QUERY(Q)\n",
        "\n",
        "#print(str()\n",
        "\n",
        "#def undo.self:\n",
        "\n"
      ],
      "execution_count": null,
      "outputs": [
        {
          "output_type": "stream",
          "name": "stdout",
          "text": [
            "['Q', 'R']\n",
            "['Q', 'R', 'S']\n"
          ]
        }
      ]
    }
  ]
}