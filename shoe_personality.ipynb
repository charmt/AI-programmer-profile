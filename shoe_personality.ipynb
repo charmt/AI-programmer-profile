{
  "nbformat": 4,
  "nbformat_minor": 0,
  "metadata": {
    "colab": {
      "name": "shoe personality.ipynb",
      "provenance": [],
      "authorship_tag": "ABX9TyNdPJEmzaDSb2lEpTxZNNri"
    },
    "kernelspec": {
      "name": "python3",
      "display_name": "Python 3"
    },
    "language_info": {
      "name": "python"
    }
  },
  "cells": [
    {
      "cell_type": "markdown",
      "metadata": {
        "id": "19sLx8Q6nTm3"
      },
      "source": [
        "* Problem : Leisure activity to determine a personality type based on questionnaire\n",
        "* Expected Outcome : Personality match to euivalent category\n",
        "* Methods : Implementing dictionary, using inputs to gather data and choose a personality type \n",
        "* Future Modifications : Using large data to generate a more accurate profiling system, maybe used fo diagnosis instead of personality typing."
      ]
    },
    {
      "cell_type": "code",
      "metadata": {
        "colab": {
          "base_uri": "https://localhost:8080/"
        },
        "id": "gc5VQL3My5q4",
        "outputId": "ee4df6dd-96a6-4501-8cb0-0b92e69c41e9"
      },
      "source": [
        "name = input(\"Hi, what should we call you? \\n\")\n",
        "\n",
        "Shoe = input(\"Hey %s, are you ready for what shoe matches your personality best? Y or N: \\n\" % name)\n",
        "\n",
        "shoes = {\"AAA\" : \"Rick Owens : You have expensive taste and aren't worried about what others think of you. You probably pioneer a lot of trends in your circle and people admire your individuality.\",\n",
        "         \"AAB\" : \"Dunk Lows : You value functionality and aesthetics. Money is always abundant in your mind and you seek to explore the world always. \",\n",
        "         \"ABA\" : \"New Balance : You are practical and know how to manage most aspects of your life with ease. You're at the perfect mix of fashion and functionality.\",\n",
        "         \"ABB\" : \"Birkenstocks : You're definitely a beach person and hate the winter. Perhaps even a granola, tree-hugger-esque personality.\",\n",
        "         \"BAA\" : \"Doc Martens : You may still be in your rebellious/emo phase. The Doc Martens to Demonia pipeline starts here! You like to invest in your future and see value in it.\",\n",
        "         \"BAB\" : \"Sketchers : You don't care too much about the mindane things and would rather just have what you need.\",\n",
        "         \"BBA\" : \"Uggs : Comfort and style central here. Though trends may waver, you do not. Rock those uggs!\",\n",
        "         \"BBB\" : \"Asics : You like getting stuff done and know how to persevere. You're definitely the outdoorsy type, but not in the Birkenstock way.\"\n",
        "         }\n",
        "\n",
        "if Shoe.upper() == \"Y\":\n",
        "\n",
        "  qn1 = input(\"That's cool %s ! So, tell me what your favorite seasons are? \\n A) Summer/Spring \\n B) Fall/Winter \\n\" % name)\n",
        "\n",
        "  qn2 = input(\"Nice. Next question, what matters more for your success?\\n\\\n",
        "A) Material things (clothes, cars, jewelry).\\n\\\n",
        "B) Intangible things (love, friendship, happiness). \\n\")\n",
        "\n",
        "  qn3 = input(\"Very interesting. Last question, what's more important to you?\\n\\\n",
        "A) The past \\n\\\n",
        "B) The future \\n\")\n",
        "  \n",
        "  choice = qn1 + qn2 + qn3\n",
        "    \n",
        "  ones = input(\"I know what shoe you are! Let's get into it. Y or N :\\n\")\n",
        "\n",
        "  if ones.upper() == \"Y\" and choice in shoes.keys():\n",
        "        print(\"You're %s!\" % shoes[choice.upper()])\n",
        "\n",
        "  else:\n",
        "        print(\"Oh no, your choice(s) aren't in our system.\")\n",
        "        print(\"You chose %s, %s and %s, try again!\"  \n",
        "        % (qn1, qn2, qn3))\n",
        "        \n",
        "else:\n",
        "    print(\"Hope you can join us another time!\")\n"
      ],
      "execution_count": 2,
      "outputs": [
        {
          "output_type": "stream",
          "name": "stdout",
          "text": [
            "Hi, what should we call you? \n",
            "Char\n",
            "Hey Char, are you ready for what shoe matches your personality best? Y or N: \n",
            "Y\n",
            "That's cool Char So, tell me what your favorite seasons are? (Choose A or B) \n",
            " A) Summer/Spring \n",
            " B) Fall/Winter \n",
            "A\n",
            "Nice. Next question, what matters more for your success?:\n",
            "A) Material things (clothes, cars, jewelry).\n",
            "B) Intangible things (love, friendship, happiness). \n",
            "A\n",
            "Very interesting, last question, what's more important to you?\n",
            "A) The past \n",
            "B) The future \n",
            "B\n",
            "I know what shoe you are! Let's get into it Y or N :\n",
            "Y\n",
            "You're Dunk Lows : You value functionality and aesthetics. Money is always abundant in your mind and you seek to explore always. !\n"
          ]
        }
      ]
    }
  ]
}